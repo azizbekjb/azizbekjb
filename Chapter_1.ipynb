{
  "nbformat": 4,
  "nbformat_minor": 0,
  "metadata": {
    "colab": {
      "provenance": [],
      "authorship_tag": "ABX9TyPRRe+H/sFDQS8ZZuSIF6Ru",
      "include_colab_link": true
    },
    "kernelspec": {
      "name": "python3",
      "display_name": "Python 3"
    },
    "language_info": {
      "name": "python"
    }
  },
  "cells": [
    {
      "cell_type": "markdown",
      "metadata": {
        "id": "view-in-github",
        "colab_type": "text"
      },
      "source": [
        "<a href=\"https://colab.research.google.com/github/azizbekjb/azizbekjb/blob/main/Chapter_1.ipynb\" target=\"_parent\"><img src=\"https://colab.research.google.com/assets/colab-badge.svg\" alt=\"Open In Colab\"/></a>"
      ]
    },
    {
      "cell_type": "markdown",
      "source": [
        "**Chapter 1.Vectros, matrices and arrays**"
      ],
      "metadata": {
        "id": "BTfJvm6pRyBQ"
      }
    },
    {
      "cell_type": "markdown",
      "source": [
        " 1.1 Creating a Vector"
      ],
      "metadata": {
        "id": "l_oyDA9qTEB5"
      }
    },
    {
      "cell_type": "markdown",
      "source": [
        "*You need to create a vector*"
      ],
      "metadata": {
        "id": "37BB1Nv7R8cY"
      }
    },
    {
      "cell_type": "code",
      "source": [
        "#solution\n",
        "#load library\n",
        "import numpy as np\n",
        "\n",
        "#create a vector as a row\n",
        "vector_row = np.array({1, 2, 3})\n",
        "\n",
        "#create a vector as column\n",
        "vector_coloumn = np.array([\n",
        "    [1],\n",
        "    [2],\n",
        "    [3]\n",
        "])\n",
        "print(f\"vector row : {vector_row}\")\n",
        "print(f\"vector column: {vector_coloumn}\")\n",
        "\n",
        "#result\n",
        "  # vector row : {1, 2, 3}\n",
        "  # vector column: [[1]\n",
        "  #                 [2]\n",
        "  #                 [3]]"
      ],
      "metadata": {
        "colab": {
          "base_uri": "https://localhost:8080/"
        },
        "id": "JF_vm1tjSCqA",
        "outputId": "a06016f9-fe13-41c6-e21b-63c19e6ad1dd"
      },
      "execution_count": 7,
      "outputs": [
        {
          "output_type": "stream",
          "name": "stdout",
          "text": [
            "vector row : {1, 2, 3}\n",
            "vector column: [[1]\n",
            " [2]\n",
            " [3]]\n"
          ]
        }
      ]
    },
    {
      "cell_type": "markdown",
      "source": [
        "1.2 Creating a Matrix"
      ],
      "metadata": {
        "id": "WBLgA_DDTsDp"
      }
    },
    {
      "cell_type": "markdown",
      "source": [
        "*You need to create a matrix*"
      ],
      "metadata": {
        "id": "bTM2p_mZTwe4"
      }
    },
    {
      "cell_type": "code",
      "source": [
        "#solution\n",
        "#type 1\n",
        "import numpy as np\n",
        "\n",
        "#create a matrix\n",
        "matrix = np.array([\n",
        "    [1, 2],\n",
        "    [1, 2],\n",
        "    [1, 2]\n",
        "])\n",
        "\n",
        "print(matrix)\n",
        "#result:\n",
        "  # [[1 2]\n",
        "  #  [1 2]\n",
        "  #  [1 2]]"
      ],
      "metadata": {
        "colab": {
          "base_uri": "https://localhost:8080/"
        },
        "id": "iiLgADmTTO87",
        "outputId": "6ff7e86a-0a43-4315-c061-c8d64b656bcf"
      },
      "execution_count": 9,
      "outputs": [
        {
          "output_type": "stream",
          "name": "stdout",
          "text": [
            "[[1 2]\n",
            " [1 2]\n",
            " [1 2]]\n"
          ]
        }
      ]
    },
    {
      "cell_type": "code",
      "source": [
        "# solution\n",
        "# type 2\n",
        "import numpy as np\n",
        "\n",
        "matrix = np.mat([\n",
        "    [1, 2],\n",
        "    [1, 2],\n",
        "    [1, 2]\n",
        "    ])\n",
        "print(matrix)\n",
        "# result:\n",
        "# [[1 2]\n",
        "#  [1 2]\n",
        "#  [1 2]]"
      ],
      "metadata": {
        "colab": {
          "base_uri": "https://localhost:8080/"
        },
        "id": "e94_6TYYUNvN",
        "outputId": "3e669a97-5516-44c1-9d61-479286b77859"
      },
      "execution_count": 10,
      "outputs": [
        {
          "output_type": "stream",
          "name": "stdout",
          "text": [
            "[[1 2]\n",
            " [1 2]\n",
            " [1 2]]\n"
          ]
        }
      ]
    },
    {
      "cell_type": "markdown",
      "source": [
        " 1.3 Creating a Sparse Matrix"
      ],
      "metadata": {
        "id": "fHvzZdZUWCvJ"
      }
    },
    {
      "cell_type": "markdown",
      "source": [
        "*Given data with very few nonzero values, you want to efficiently represent it*"
      ],
      "metadata": {
        "id": "JyelSxT6WHnJ"
      }
    },
    {
      "cell_type": "code",
      "source": [
        "#solution\n",
        "\n",
        "#Load libraries\n",
        "import numpy as np\n",
        "from scipy import sparse\n",
        "\n",
        "#Create a matrix\n",
        "matrix = np.array([\n",
        "    [0, 0],\n",
        "    [0, 1],\n",
        "    [3, 0]\n",
        "])\n",
        "\n",
        "# Create compressed sparse row (CSR) matrix\n",
        "matrix_sparse = sparse.csr_matrix(matrix)\n",
        "\n",
        "print(matrix_sparse)\n",
        "# result:\n",
        "  # (1, 1)\t1\n",
        "  #   (2, 0)\t3"
      ],
      "metadata": {
        "colab": {
          "base_uri": "https://localhost:8080/"
        },
        "id": "3sKKVNT9WhKB",
        "outputId": "dbb6abc6-10f5-4e41-b963-daf5ed504a48"
      },
      "execution_count": 17,
      "outputs": [
        {
          "output_type": "stream",
          "name": "stdout",
          "text": [
            "  (1, 1)\t1\n",
            "  (2, 0)\t3\n"
          ]
        }
      ]
    },
    {
      "cell_type": "markdown",
      "source": [
        " 1.4 Selecting Elements"
      ],
      "metadata": {
        "id": "qiasSrVsYv3J"
      }
    },
    {
      "cell_type": "markdown",
      "source": [
        "*You need to select one or more elements in a vector or matrix*"
      ],
      "metadata": {
        "id": "8x-5PjuZYzU5"
      }
    },
    {
      "cell_type": "code",
      "source": [
        "#solution\n",
        "\n",
        "#Load libraries\n",
        "import numpy as np\n",
        "\n",
        "# Create a vector as row\n",
        "vector = np.array([1, 2, 3, 4, 5, 6])\n",
        "\n",
        "# Create a matirx\n",
        "matrix = np.array([[1, 2, 3],\n",
        "                   [4, 5, 6],\n",
        "                   [7, 8, 9]\n",
        "                   ])\n",
        "\n",
        "#Select third element of vector\n",
        "print(vector[2]) # 3\n",
        "\n",
        "# Select second row, second column of matrix\n",
        "print(matrix[1, 1]) # 5\n",
        "\n",
        "# Select all elements of a vector\n",
        "print(vector[:]) #[1 2 3 4 5 6]\n",
        "\n",
        "# Select everything up to and including the third element\n",
        "print(vector[:3]) # [1 2 3]\n",
        "\n",
        "# Select everything after the third element\n",
        "print(vector[3:]) # [4 5 6]\n",
        "\n",
        "# Select the last element\n",
        "print(vector[-1]) # 6\n",
        "\n",
        "# Select the first  two rows and all columns of a matrix\n",
        "print(matrix[:2, :]) #[[1 2 3]\n",
        "                     #[4 5 6]]\n",
        "\n",
        "# Select all rows and second columns\n",
        "print(matrix[:, 1:2])\n",
        "  # [[2]\n",
        "  #  [5]\n",
        "  #  [8]]\n",
        "#Result:\n",
        "# 3\n",
        "# 5\n",
        "# [1 2 3 4 5 6]\n",
        "# [1 2 3]\n",
        "# [4 5 6]\n",
        "# 6\n",
        "# [[1 2 3]\n",
        "#  [4 5 6]]\n",
        "# [[2]\n",
        "#  [5]\n",
        "#  [8]]"
      ],
      "metadata": {
        "colab": {
          "base_uri": "https://localhost:8080/"
        },
        "id": "x90hCr9UXugA",
        "outputId": "6317fabb-180e-46ca-a589-2c4066b1158e"
      },
      "execution_count": 25,
      "outputs": [
        {
          "output_type": "stream",
          "name": "stdout",
          "text": [
            "3\n",
            "5\n",
            "[1 2 3 4 5 6]\n",
            "[1 2 3]\n",
            "[4 5 6]\n",
            "6\n",
            "[[1 2 3]\n",
            " [4 5 6]]\n",
            "[[2]\n",
            " [5]\n",
            " [8]]\n"
          ]
        }
      ]
    },
    {
      "cell_type": "markdown",
      "source": [
        "1.5 Describing a Matrix"
      ],
      "metadata": {
        "id": "iw9jgtfkdeny"
      }
    },
    {
      "cell_type": "markdown",
      "source": [
        "*You want to describe the shape, size, and dimensions of the matrix.*"
      ],
      "metadata": {
        "id": "4_dWpb1kdkuz"
      }
    },
    {
      "cell_type": "code",
      "source": [
        "#Solution\n",
        "\n",
        "#Load library\n",
        "import numpy as np\n",
        "\n",
        "#Create a matrix\n",
        "matrix = np.array([\n",
        "    [1, 2, 3, 4],\n",
        "    [5, 6, 7, 8],\n",
        "    [9, 10, 11, 12]\n",
        "])\n",
        "\n",
        "# Veiw number of rows and columns\n",
        "print(matrix.shape) # (3, 4)\n",
        "\n",
        "# View numbeof elements (rows * columns)\n",
        "print(matrix.size) # 12\n",
        "\n",
        "# View number of dimensions\n",
        "print(matrix.ndim) #2\n",
        "# Results:\n",
        "# (3, 4)\n",
        "# 12\n",
        "# 2\n"
      ],
      "metadata": {
        "colab": {
          "base_uri": "https://localhost:8080/"
        },
        "id": "xGHQhbCOaWCZ",
        "outputId": "34dd28cc-1c3b-48f1-ad10-a66a680b1bd5"
      },
      "execution_count": 31,
      "outputs": [
        {
          "output_type": "stream",
          "name": "stdout",
          "text": [
            "(3, 4)\n",
            "12\n",
            "2\n"
          ]
        }
      ]
    },
    {
      "cell_type": "markdown",
      "source": [
        " 1.6 Applying Operations to Elements"
      ],
      "metadata": {
        "id": "MDlCO_16ig3N"
      }
    },
    {
      "cell_type": "markdown",
      "source": [
        "*Use NumPy's vectorize*"
      ],
      "metadata": {
        "id": "7LEePo9DimLU"
      }
    },
    {
      "cell_type": "code",
      "source": [
        "#Solution\n",
        "#Load library\n",
        "import numpy as np\n",
        "\n",
        "# Create a matrix\n",
        "matrix = np.array([\n",
        "    [1, 2, 3],\n",
        "    [4, 5, 6],\n",
        "    [7, 8, 9]\n",
        "])\n",
        "\n",
        "# Create function that adds 100 to something\n",
        "add_100 = lambda i: i + 100\n",
        "\n",
        "# Create vectorized function\n",
        "vectrorized_add_100 = np.vectorize(add_100)\n",
        "\n",
        "# Apply function to all elements in matrix\n",
        "#type 1\n",
        "\n",
        "print(vectrorized_add_100(matrix))\n",
        "# array([[101, 102, 103],\n",
        "#        [104, 105, 106],\n",
        "#        [107, 108, 109]])\n",
        "\n",
        "# type 2\n",
        "matrix + 100\n",
        "# array([[101, 102, 103],\n",
        "#        [104, 105, 106],\n",
        "#        [107, 108, 109]])"
      ],
      "metadata": {
        "colab": {
          "base_uri": "https://localhost:8080/"
        },
        "id": "HtRle9Qkeoh6",
        "outputId": "429bf6e2-f6fb-4667-992e-8b238f9ac9ac"
      },
      "execution_count": 33,
      "outputs": [
        {
          "output_type": "stream",
          "name": "stdout",
          "text": [
            "[[101 102 103]\n",
            " [104 105 106]\n",
            " [107 108 109]]\n"
          ]
        },
        {
          "output_type": "execute_result",
          "data": {
            "text/plain": [
              "array([[101, 102, 103],\n",
              "       [104, 105, 106],\n",
              "       [107, 108, 109]])"
            ]
          },
          "metadata": {},
          "execution_count": 33
        }
      ]
    },
    {
      "cell_type": "markdown",
      "source": [
        "1.7 Finding the Maximum and Minimum\n",
        " Values"
      ],
      "metadata": {
        "id": "9v3DLg_GnsXV"
      }
    },
    {
      "cell_type": "markdown",
      "source": [
        "You need to find the maximum or minimum value in an array.Use NumPy's max and min\n",
        ""
      ],
      "metadata": {
        "id": "Pced-x3JnxE8"
      }
    },
    {
      "cell_type": "code",
      "source": [
        "# Solution\n",
        "# type 1\n",
        "import numpy as np\n",
        "\n",
        "# Create matrix\n",
        "matrix = np.array([\n",
        "    [1, 2, 3],\n",
        "    [4, 5, 6],\n",
        "    [7, 8, 9]\n",
        "])\n",
        "f\"Maximum and minimum elemets in matrix: {np.max(matrix)} and {np.min(matrix)}\"\n",
        "#Maximum and minimum elements in matrix: 9 and 1"
      ],
      "metadata": {
        "colab": {
          "base_uri": "https://localhost:8080/",
          "height": 36
        },
        "id": "ljGbxawxkptF",
        "outputId": "4be98577-eccc-4e33-e563-36bf63010133"
      },
      "execution_count": 39,
      "outputs": [
        {
          "output_type": "execute_result",
          "data": {
            "text/plain": [
              "'Maximum and minimum elemets in matrix: 9 and 1'"
            ],
            "application/vnd.google.colaboratory.intrinsic+json": {
              "type": "string"
            }
          },
          "metadata": {},
          "execution_count": 39
        }
      ]
    },
    {
      "cell_type": "code",
      "source": [
        "# Solution\n",
        "# type 2\n",
        "import numpy as np\n",
        "\n",
        "# Find maximum element in each column\n",
        "np.max(matrix, axis=0) # array([7, 8, 9])\n",
        "\n",
        "# Find maximum element in each row\n",
        "np.max(matrix, axis=1) # array([3, 6, 9])"
      ],
      "metadata": {
        "colab": {
          "base_uri": "https://localhost:8080/"
        },
        "id": "6ZwiI4G3oiA6",
        "outputId": "d877282d-6a89-41e6-e48a-6ecd398d54ef"
      },
      "execution_count": 41,
      "outputs": [
        {
          "output_type": "execute_result",
          "data": {
            "text/plain": [
              "array([3, 6, 9])"
            ]
          },
          "metadata": {},
          "execution_count": 41
        }
      ]
    },
    {
      "cell_type": "code",
      "source": [],
      "metadata": {
        "id": "PkSxw_1EsfUB"
      },
      "execution_count": null,
      "outputs": []
    }
  ]
}